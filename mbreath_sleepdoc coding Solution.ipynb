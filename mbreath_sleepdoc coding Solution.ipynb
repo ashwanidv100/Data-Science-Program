{
  "nbformat": 4,
  "nbformat_minor": 0,
  "metadata": {
    "colab": {
      "name": "Snippets: Importing libraries",
      "version": "0.3.2",
      "provenance": [],
      "collapsed_sections": [],
      "toc_visible": true,
      "include_colab_link": true
    },
    "kernelspec": {
      "display_name": "Python 3",
      "name": "python3"
    }
  },
  "cells": [
    {
      "cell_type": "markdown",
      "metadata": {
        "id": "view-in-github",
        "colab_type": "text"
      },
      "source": [
        "[View in Colaboratory](https://colab.research.google.com/github/ashwanidv100/Data-Science-Program/blob/master/mbreath_sleepdoc%20coding%20Solution.ipynb)"
      ]
    },
    {
      "metadata": {
        "id": "aNsfV6XdoHuR",
        "colab_type": "code",
        "colab": {
          "base_uri": "https://localhost:8080/",
          "height": 51
        },
        "outputId": "bc5375f3-7c0f-4181-c311-7b24e1bbb033"
      },
      "cell_type": "code",
      "source": [
        "!pip install pyedflib\n"
      ],
      "execution_count": 12,
      "outputs": [
        {
          "output_type": "stream",
          "text": [
            "Requirement already satisfied: pyedflib in /usr/local/lib/python3.6/dist-packages (0.1.13)\r\n",
            "Requirement already satisfied: numpy>=1.9.1 in /usr/local/lib/python3.6/dist-packages (from pyedflib) (1.14.5)\r\n"
          ],
          "name": "stdout"
        }
      ]
    },
    {
      "metadata": {
        "id": "SC6W2Xo0mFeB",
        "colab_type": "code",
        "colab": {}
      },
      "cell_type": "code",
      "source": [
        "# The xml.etree.ElementTree module implements a simple and efficient API for parsing and creating XML data.\n",
        "import xml.etree.ElementTree as ET\n",
        "\n",
        "# pyedflib is a python library to read/write EDF+/BDF+ files based on EDFlib. That's already Installed above.\n",
        "import pyedflib \n",
        " \n",
        "import numpy as np \n",
        "\n",
        "import pandas as pd"
      ],
      "execution_count": 0,
      "outputs": []
    },
    {
      "metadata": {
        "id": "PA3yarOPoccc",
        "colab_type": "code",
        "colab": {}
      },
      "cell_type": "code",
      "source": [
        "tree = ET.parse('mesa-sleep-0001-profusion.xml') # import the data by reading from a file\n",
        "root = tree.getroot() # Get the root node"
      ],
      "execution_count": 0,
      "outputs": []
    },
    {
      "metadata": {
        "id": "IZNnJWb4JjyP",
        "colab_type": "code",
        "colab": {
          "base_uri": "https://localhost:8080/",
          "height": 34
        },
        "outputId": "ee9ea687-a9ac-4a00-b7f0-c362860df41a"
      },
      "cell_type": "code",
      "source": [
        "root.tag"
      ],
      "execution_count": 27,
      "outputs": [
        {
          "output_type": "execute_result",
          "data": {
            "text/plain": [
              "'CMPStudyConfig'"
            ]
          },
          "metadata": {
            "tags": []
          },
          "execution_count": 27
        }
      ]
    },
    {
      "metadata": {
        "id": "HAvm4xkkJsJn",
        "colab_type": "code",
        "colab": {
          "base_uri": "https://localhost:8080/",
          "height": 34
        },
        "outputId": "6a4dd442-20bb-4652-a588-492463989e86"
      },
      "cell_type": "code",
      "source": [
        "root.attrib # No attributes of the root node"
      ],
      "execution_count": 28,
      "outputs": [
        {
          "output_type": "execute_result",
          "data": {
            "text/plain": [
              "{}"
            ]
          },
          "metadata": {
            "tags": []
          },
          "execution_count": 28
        }
      ]
    }
  ]
}