{
  "nbformat": 4,
  "nbformat_minor": 0,
  "metadata": {
    "colab": {
      "name": "Snippets: Importing libraries",
      "version": "0.3.2",
      "provenance": [],
      "collapsed_sections": [],
      "include_colab_link": true
    },
    "kernelspec": {
      "display_name": "Python 3",
      "name": "python3"
    }
  },
  "cells": [
    {
      "cell_type": "markdown",
      "metadata": {
        "id": "view-in-github",
        "colab_type": "text"
      },
      "source": [
        "[View in Colaboratory](https://colab.research.google.com/github/ashwanidv100/Data-Science-Program/blob/master/mbreath_sleepdoc%20coding%20Solution.ipynb)"
      ]
    },
    {
      "metadata": {
        "id": "aNsfV6XdoHuR",
        "colab_type": "code",
        "colab": {
          "base_uri": "https://localhost:8080/",
          "height": 187
        },
        "outputId": "e6812e73-d868-4502-f4c9-e0083a390b17"
      },
      "cell_type": "code",
      "source": [
        "!pip install pyedflib\n"
      ],
      "execution_count": 3,
      "outputs": [
        {
          "output_type": "stream",
          "text": [
            "Collecting pyedflib\n",
            "\u001b[?25l  Downloading https://files.pythonhosted.org/packages/ef/6d/c565e33c06bd78bc97994486a9820b10370cfa49622e8c57d35f2961e4e0/pyEDFlib-0.1.13.tar.gz (1.1MB)\n",
            "\u001b[K    100% |████████████████████████████████| 1.1MB 8.3MB/s \n",
            "\u001b[?25hRequirement already satisfied: numpy>=1.9.1 in /usr/local/lib/python3.6/dist-packages (from pyedflib) (1.14.5)\n",
            "Building wheels for collected packages: pyedflib\n",
            "  Running setup.py bdist_wheel for pyedflib ... \u001b[?25l-\b \b\\\b \b|\b \b/\b \b-\b \b\\\b \b|\b \b/\b \bdone\n",
            "\u001b[?25h  Stored in directory: /root/.cache/pip/wheels/a9/50/a6/0d55d5098791be492faffac836a39e4e5e7ec8876d3731dcec\n",
            "Successfully built pyedflib\n",
            "Installing collected packages: pyedflib\n",
            "Successfully installed pyedflib-0.1.13\n"
          ],
          "name": "stdout"
        }
      ]
    },
    {
      "metadata": {
        "id": "SC6W2Xo0mFeB",
        "colab_type": "code",
        "colab": {}
      },
      "cell_type": "code",
      "source": [
        "# The xml.etree.ElementTree module implements a simple and efficient API for parsing and creating XML data.\n",
        "import xml.etree.ElementTree as ET\n",
        "\n",
        "# pyedflib is a python library to read/write EDF+/BDF+ files based on EDFlib. That's already Installed above.\n",
        "import pyedflib \n",
        " \n",
        "import numpy as np \n",
        "\n",
        "import pandas as pd"
      ],
      "execution_count": 0,
      "outputs": []
    },
    {
      "metadata": {
        "id": "PA3yarOPoccc",
        "colab_type": "code",
        "colab": {}
      },
      "cell_type": "code",
      "source": [
        ""
      ],
      "execution_count": 0,
      "outputs": []
    }
  ]
}